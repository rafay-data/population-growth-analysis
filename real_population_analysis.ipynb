{
 "cells": [
  {
   "cell_type": "code",
   "execution_count": null,
   "id": "ffc9ab79-8bec-4024-a5d8-e7f87beeec55",
   "metadata": {},
   "outputs": [],
   "source": []
  }
 ],
 "metadata": {
  "kernelspec": {
   "display_name": "",
   "name": ""
  },
  "language_info": {
   "name": ""
  }
 },
 "nbformat": 4,
 "nbformat_minor": 5
}
